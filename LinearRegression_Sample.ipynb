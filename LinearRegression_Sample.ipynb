{
 "cells": [
  {
   "cell_type": "markdown",
   "metadata": {},
   "source": [
    "# Imports"
   ]
  },
  {
   "cell_type": "code",
   "execution_count": null,
   "metadata": {
    "ExecuteTime": {
     "end_time": "2020-08-04T08:36:47.452522Z",
     "start_time": "2020-08-04T08:36:45.345027Z"
    }
   },
   "outputs": [],
   "source": [
    "import numpy as np\n",
    "import matplotlib.pyplot as plt\n",
    "from sklearn.linear_model import LinearRegression"
   ]
  },
  {
   "cell_type": "markdown",
   "metadata": {},
   "source": [
    "# Plot set up"
   ]
  },
  {
   "cell_type": "code",
   "execution_count": null,
   "metadata": {
    "ExecuteTime": {
     "end_time": "2020-08-04T08:36:47.461833Z",
     "start_time": "2020-08-04T08:36:47.456482Z"
    }
   },
   "outputs": [],
   "source": [
    "plt.rcParams['font.sans-serif'] = ['SimHei'] # display Chinese\n",
    "plt.rcParams['axes.unicode_minus'] = False   # display minus sign\n",
    "plt.rcParams['figure.dpi'] = 540             # picture dpi\n",
    "size = 11                                    # font size in picture"
   ]
  },
  {
   "cell_type": "markdown",
   "metadata": {},
   "source": [
    "# Sample set up"
   ]
  },
  {
   "cell_type": "code",
   "execution_count": null,
   "metadata": {
    "ExecuteTime": {
     "end_time": "2020-08-04T08:36:47.476505Z",
     "start_time": "2020-08-04T08:36:47.466077Z"
    }
   },
   "outputs": [],
   "source": [
    "N=500            # assuming population size is 500\n",
    "n=300            # assuming sample size is 300\n",
    "ylabel = '风速'  # assuming wind speed data\n",
    "unit = 'm/s'     # unit of wind speed"
   ]
  },
  {
   "cell_type": "markdown",
   "metadata": {},
   "source": [
    "# Random Sample Data"
   ]
  },
  {
   "cell_type": "code",
   "execution_count": null,
   "metadata": {
    "ExecuteTime": {
     "end_time": "2020-08-04T08:36:47.485927Z",
     "start_time": "2020-08-04T08:36:47.477201Z"
    }
   },
   "outputs": [],
   "source": [
    "# Sample Data\n",
    "# make it like real!\n",
    "data1 = np.random.rand(n)\n",
    "data2 = np.random.rand(n)\n",
    "\n",
    "data1 = (data1-0.5)*1.5\n",
    "data2 = (data2-0.5)*1.5\n",
    "\n",
    "data1 = np.abs(data1 + [i/100 for i in range(n)])\n",
    "data2 = np.abs(data2 + [i/100 for i in range(n)])"
   ]
  },
  {
   "cell_type": "markdown",
   "metadata": {},
   "source": [
    "# Data Analysis"
   ]
  },
  {
   "cell_type": "code",
   "execution_count": null,
   "metadata": {
    "ExecuteTime": {
     "end_time": "2020-08-04T08:36:47.501264Z",
     "start_time": "2020-08-04T08:36:47.489002Z"
    }
   },
   "outputs": [],
   "source": [
    "r = np.corrcoef(data1,data2)[0,1]   # correlation\n",
    "X=data1.reshape(n,1)        # data transfermation\n",
    "y=data2.reshape(n,1)        # data transfermation\n",
    "m = np.mean(y-X)            # difference mean\n",
    "s = np.std(y-X)             # difference standard deviation"
   ]
  },
  {
   "cell_type": "markdown",
   "metadata": {},
   "source": [
    "# Plot"
   ]
  },
  {
   "cell_type": "code",
   "execution_count": null,
   "metadata": {
    "ExecuteTime": {
     "end_time": "2020-08-04T08:36:49.633992Z",
     "start_time": "2020-08-04T08:36:47.503006Z"
    }
   },
   "outputs": [],
   "source": [
    "model = LinearRegression()\n",
    "model.fit(X,y)                   # fit model\n",
    "intercept = model.intercept_[0]  # get intercept\n",
    "coef = model.coef_[0][0]         # get coef\n",
    "\n",
    "X2 = [[np.min(X)],[np.max(X)]]   # take out minimum and maximum data\n",
    "y2 = model.predict(X2)           # calculate predicted y by minimum and maximum data\n",
    "X3 = [np.min(X),np.max(X)]       # take out minimum and maximum data for baseline\n",
    "y3 = [np.min(X),np.max(X)]       # take out minimum and maximum data for baseline\n",
    "\n",
    "fig2 = plt.figure(figsize=(8,8))\n",
    "plt.plot(X,y,'k.')     # original scatter plot\n",
    "plt.plot(X2,y2,'r-')   # model\n",
    "plt.plot(X3,y3,'b--')  # baseline\n",
    "\n",
    "plt.legend([ylabel,'y='+str(round(intercept,4))+'+'+str(round(coef,4))+'x','y=x'],\n",
    "           bbox_to_anchor=(1,1),fontsize = size) # label,model,baseline\n",
    "plt.text(0,np.max(X),\n",
    "         'N={}\\nn={}\\nx={}{}\\ns={}{}\\nr={}'.format(N,n,round(m,3),unit,round(s,3),unit,round(r,3)),\n",
    "         verticalalignment='top',fontsize = size,color='r') # size, sample size, difference mean, difference std, correlation\n",
    "plt.xlabel('实际测得风速'+ylabel,fontdict={'size':size})\n",
    "plt.ylabel('真实风速'+ylabel,fontdict={'size':size})\n",
    "plt.title(ylabel+'相关对比图',fontdict={'size':size})\n",
    "plt.tick_params(labelsize=size-3)\n",
    "fig2.tight_layout()\n",
    "plt.show"
   ]
  },
  {
   "cell_type": "code",
   "execution_count": null,
   "metadata": {
    "ExecuteTime": {
     "end_time": "2020-08-04T08:36:50.638005Z",
     "start_time": "2020-08-04T08:36:49.635278Z"
    }
   },
   "outputs": [],
   "source": [
    "# fig2.savefig(r'Sample.png')"
   ]
  }
 ],
 "metadata": {
  "kernelspec": {
   "display_name": "Python 3",
   "language": "python",
   "name": "python3"
  },
  "language_info": {
   "codemirror_mode": {
    "name": "ipython",
    "version": 3
   },
   "file_extension": ".py",
   "mimetype": "text/x-python",
   "name": "python",
   "nbconvert_exporter": "python",
   "pygments_lexer": "ipython3",
   "version": "3.7.4"
  },
  "toc": {
   "base_numbering": "0",
   "nav_menu": {},
   "number_sections": true,
   "sideBar": true,
   "skip_h1_title": false,
   "title_cell": "Table of Contents",
   "title_sidebar": "Contents",
   "toc_cell": false,
   "toc_position": {},
   "toc_section_display": true,
   "toc_window_display": false
  },
  "varInspector": {
   "cols": {
    "lenName": 16,
    "lenType": 16,
    "lenVar": 40
   },
   "kernels_config": {
    "python": {
     "delete_cmd_postfix": "",
     "delete_cmd_prefix": "del ",
     "library": "var_list.py",
     "varRefreshCmd": "print(var_dic_list())"
    },
    "r": {
     "delete_cmd_postfix": ") ",
     "delete_cmd_prefix": "rm(",
     "library": "var_list.r",
     "varRefreshCmd": "cat(var_dic_list()) "
    }
   },
   "types_to_exclude": [
    "module",
    "function",
    "builtin_function_or_method",
    "instance",
    "_Feature"
   ],
   "window_display": false
  }
 },
 "nbformat": 4,
 "nbformat_minor": 2
}
